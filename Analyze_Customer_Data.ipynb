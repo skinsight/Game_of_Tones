{
 "cells": [
  {
   "cell_type": "markdown",
   "metadata": {},
   "source": [
    "## Analyze Customer Data for Game of Tones Gift With Purchase Promotion\n",
    "\n",
    "\n",
    "\n",
    "## Table of Contents\n",
    "- [Introduction](#intro)\n",
    "- [Part I - Read Data](#read_data)\n",
    "- [Part II - Analysis](#analysis)\n",
    "- [Part III - Conclusion](#conclusion)\n",
    "\n",
    "\n",
    "<a id='intro'></a>\n",
    "### Introduction\n",
    "\n",
    "\n",
    "For this marketing study, I have created fictional sales data for an imaginary beauty company called \"Game of Tones.\" This company offers a collection of skincare products and color cosmetics inspired by HBO's hit series \"Game of Thrones.\" All customers listed in the raw data are named after \"Game of Thrones\" characters for educational purposes only.\n",
    "\n",
    "For example, one customer named Daenerys Targaryen bought Dragon Fire Foundation on January 1, 2019 (20190101). All product sales data is stored in a csv file (GoT_Sales_Stats_Fictional.csv). You can open this file using Excel, Google Sheets, or various text editors. Using this data, the GoTones team wants to launch a new marketing strategy: To send one customized complimentary product to each individual customer in its database (instead of blindly sending the same complimentary product to every customer in its database). The GoTones marketing team believes that this strategy will increase client retention.\n",
    "\n",
    "That being said, the GoTones marketing team plans to use the following sales data to easily and efficiently determine which complimentary product each customer will receive with his or her next online purchase. Each individual customer will be sent a complimentary version of the product that he or she has purchased most frequently year-to-date (YTD). In addition to this customized gift with purchase promotion, the GoTones team wants to leverage the data to discover which product was the highest-performing and which product was the lowest-performing.\n",
    "\n",
    "This project is my attempt to show ways in which cosmetic companies can leverage data to create individually-targeted, customer-centric marketing campaigns. My goal is for each customer to receive a meaningful, relevant gift with purchase, which, in turn, will increase brand loyalty and customer retention. I also want to show how cosmetic companies can use data to study product performance. \n",
    "\n",
    "Please note that I have taken inspiration from HBO's \"Game of Thrones\" and generated this imaginary data for educational purposes only, not for commercial purposes. \n",
    "\n",
    "\n",
    "<a id='read_data'></a>\n",
    "### Part I: Read Data\n",
    "\n",
    "1. To get started, let's import our libraries."
   ]
  },
  {
   "cell_type": "code",
   "execution_count": 1,
   "metadata": {},
   "outputs": [],
   "source": [
    "import pandas as pd\n",
    "import numpy as np\n",
    "import analyze_data_GoTones as adg #import analyze_data_GoTones.py, which contains the relevant functions for my analysis"
   ]
  },
  {
   "cell_type": "markdown",
   "metadata": {},
   "source": [
    "2. Now, let's read in the `GoT_Sales_Stats_Fictional.csv` data. This csv file contains the fictional sales data for YTD 2019 for individual clients. Let's store it in `df`. \n",
    "\n",
    "Read in the dataset and take a look at the first five rows here:"
   ]
  },
  {
   "cell_type": "code",
   "execution_count": 2,
   "metadata": {
    "scrolled": false
   },
   "outputs": [
    {
     "data": {
      "text/html": [
       "<div>\n",
       "<style scoped>\n",
       "    .dataframe tbody tr th:only-of-type {\n",
       "        vertical-align: middle;\n",
       "    }\n",
       "\n",
       "    .dataframe tbody tr th {\n",
       "        vertical-align: top;\n",
       "    }\n",
       "\n",
       "    .dataframe thead th {\n",
       "        text-align: right;\n",
       "    }\n",
       "</style>\n",
       "<table border=\"1\" class=\"dataframe\">\n",
       "  <thead>\n",
       "    <tr style=\"text-align: right;\">\n",
       "      <th></th>\n",
       "      <th>Date</th>\n",
       "      <th>Daenerys Targaryen</th>\n",
       "      <th>Jorah Mormont</th>\n",
       "      <th>Sansa Stark</th>\n",
       "      <th>Brienne of Tarth</th>\n",
       "      <th>Catelyn Stark</th>\n",
       "      <th>Cersei Lannister</th>\n",
       "      <th>Khal Drogo</th>\n",
       "      <th>Arya Stark</th>\n",
       "      <th>Tyrion Lannister</th>\n",
       "      <th>...</th>\n",
       "      <th>Theon Greyjoy</th>\n",
       "      <th>Stannis Baratheon</th>\n",
       "      <th>Jaime Lannister</th>\n",
       "      <th>Jon Snow</th>\n",
       "      <th>Joffrey Baratheon</th>\n",
       "      <th>Robb Stark</th>\n",
       "      <th>Tywin Lannister</th>\n",
       "      <th>Myrcella Baratheon</th>\n",
       "      <th>Ellaria Sand</th>\n",
       "      <th>Talisa Stark</th>\n",
       "    </tr>\n",
       "  </thead>\n",
       "  <tbody>\n",
       "    <tr>\n",
       "      <th>0</th>\n",
       "      <td>20190101.0</td>\n",
       "      <td>Dragon Fire Foundation</td>\n",
       "      <td>NaN</td>\n",
       "      <td>Royal Blush</td>\n",
       "      <td>Ice Sword SPF</td>\n",
       "      <td>NaN</td>\n",
       "      <td>Lannister Lip Salve</td>\n",
       "      <td>Targaryen Toner</td>\n",
       "      <td>NaN</td>\n",
       "      <td>NaN</td>\n",
       "      <td>...</td>\n",
       "      <td>NaN</td>\n",
       "      <td>NaN</td>\n",
       "      <td>NaN</td>\n",
       "      <td>Maester Micellar Water</td>\n",
       "      <td>Lannister Lip Salve</td>\n",
       "      <td>Iron Throne Eye Cream</td>\n",
       "      <td>NaN</td>\n",
       "      <td>Cleansing Milk of the Poppy</td>\n",
       "      <td>Essos Essence</td>\n",
       "      <td>NaN</td>\n",
       "    </tr>\n",
       "    <tr>\n",
       "      <th>1</th>\n",
       "      <td>20190102.0</td>\n",
       "      <td>NaN</td>\n",
       "      <td>NaN</td>\n",
       "      <td>NaN</td>\n",
       "      <td>NaN</td>\n",
       "      <td>NaN</td>\n",
       "      <td>NaN</td>\n",
       "      <td>NaN</td>\n",
       "      <td>NaN</td>\n",
       "      <td>NaN</td>\n",
       "      <td>...</td>\n",
       "      <td>NaN</td>\n",
       "      <td>NaN</td>\n",
       "      <td>NaN</td>\n",
       "      <td>NaN</td>\n",
       "      <td>NaN</td>\n",
       "      <td>NaN</td>\n",
       "      <td>NaN</td>\n",
       "      <td>NaN</td>\n",
       "      <td>NaN</td>\n",
       "      <td>NaN</td>\n",
       "    </tr>\n",
       "    <tr>\n",
       "      <th>2</th>\n",
       "      <td>20190103.0</td>\n",
       "      <td>NaN</td>\n",
       "      <td>NaN</td>\n",
       "      <td>NaN</td>\n",
       "      <td>NaN</td>\n",
       "      <td>NaN</td>\n",
       "      <td>NaN</td>\n",
       "      <td>NaN</td>\n",
       "      <td>Ice Sword SPF</td>\n",
       "      <td>NaN</td>\n",
       "      <td>...</td>\n",
       "      <td>NaN</td>\n",
       "      <td>NaN</td>\n",
       "      <td>NaN</td>\n",
       "      <td>NaN</td>\n",
       "      <td>NaN</td>\n",
       "      <td>NaN</td>\n",
       "      <td>Iron Throne Eye Cream</td>\n",
       "      <td>NaN</td>\n",
       "      <td>NaN</td>\n",
       "      <td>NaN</td>\n",
       "    </tr>\n",
       "    <tr>\n",
       "      <th>3</th>\n",
       "      <td>20190104.0</td>\n",
       "      <td>NaN</td>\n",
       "      <td>NaN</td>\n",
       "      <td>NaN</td>\n",
       "      <td>NaN</td>\n",
       "      <td>NaN</td>\n",
       "      <td>NaN</td>\n",
       "      <td>NaN</td>\n",
       "      <td>NaN</td>\n",
       "      <td>NaN</td>\n",
       "      <td>...</td>\n",
       "      <td>NaN</td>\n",
       "      <td>Cleansing Milk of the Poppy</td>\n",
       "      <td>NaN</td>\n",
       "      <td>NaN</td>\n",
       "      <td>NaN</td>\n",
       "      <td>NaN</td>\n",
       "      <td>NaN</td>\n",
       "      <td>NaN</td>\n",
       "      <td>NaN</td>\n",
       "      <td>Maester Micellar Water</td>\n",
       "    </tr>\n",
       "    <tr>\n",
       "      <th>4</th>\n",
       "      <td>20190105.0</td>\n",
       "      <td>NaN</td>\n",
       "      <td>Maester Micellar Water</td>\n",
       "      <td>NaN</td>\n",
       "      <td>NaN</td>\n",
       "      <td>NaN</td>\n",
       "      <td>NaN</td>\n",
       "      <td>NaN</td>\n",
       "      <td>NaN</td>\n",
       "      <td>NaN</td>\n",
       "      <td>...</td>\n",
       "      <td>NaN</td>\n",
       "      <td>NaN</td>\n",
       "      <td>Iron Throne Eye Cream</td>\n",
       "      <td>NaN</td>\n",
       "      <td>NaN</td>\n",
       "      <td>NaN</td>\n",
       "      <td>NaN</td>\n",
       "      <td>NaN</td>\n",
       "      <td>NaN</td>\n",
       "      <td>NaN</td>\n",
       "    </tr>\n",
       "  </tbody>\n",
       "</table>\n",
       "<p>5 rows × 24 columns</p>\n",
       "</div>"
      ],
      "text/plain": [
       "         Date      Daenerys Targaryen           Jorah Mormont  Sansa Stark  \\\n",
       "0  20190101.0  Dragon Fire Foundation                     NaN  Royal Blush   \n",
       "1  20190102.0                     NaN                     NaN          NaN   \n",
       "2  20190103.0                     NaN                     NaN          NaN   \n",
       "3  20190104.0                     NaN                     NaN          NaN   \n",
       "4  20190105.0                     NaN  Maester Micellar Water          NaN   \n",
       "\n",
       "  Brienne of Tarth Catelyn Stark     Cersei Lannister       Khal Drogo  \\\n",
       "0    Ice Sword SPF           NaN  Lannister Lip Salve  Targaryen Toner   \n",
       "1              NaN           NaN                  NaN              NaN   \n",
       "2              NaN           NaN                  NaN              NaN   \n",
       "3              NaN           NaN                  NaN              NaN   \n",
       "4              NaN           NaN                  NaN              NaN   \n",
       "\n",
       "      Arya Stark Tyrion Lannister           ...           Theon Greyjoy  \\\n",
       "0            NaN              NaN           ...                     NaN   \n",
       "1            NaN              NaN           ...                     NaN   \n",
       "2  Ice Sword SPF              NaN           ...                     NaN   \n",
       "3            NaN              NaN           ...                     NaN   \n",
       "4            NaN              NaN           ...                     NaN   \n",
       "\n",
       "             Stannis Baratheon        Jaime Lannister                Jon Snow  \\\n",
       "0                          NaN                    NaN  Maester Micellar Water   \n",
       "1                          NaN                    NaN                     NaN   \n",
       "2                          NaN                    NaN                     NaN   \n",
       "3  Cleansing Milk of the Poppy                    NaN                     NaN   \n",
       "4                          NaN  Iron Throne Eye Cream                     NaN   \n",
       "\n",
       "     Joffrey Baratheon             Robb Stark        Tywin Lannister  \\\n",
       "0  Lannister Lip Salve  Iron Throne Eye Cream                    NaN   \n",
       "1                  NaN                    NaN                    NaN   \n",
       "2                  NaN                    NaN  Iron Throne Eye Cream   \n",
       "3                  NaN                    NaN                    NaN   \n",
       "4                  NaN                    NaN                    NaN   \n",
       "\n",
       "            Myrcella Baratheon   Ellaria Sand            Talisa Stark  \n",
       "0  Cleansing Milk of the Poppy  Essos Essence                     NaN  \n",
       "1                          NaN            NaN                     NaN  \n",
       "2                          NaN            NaN                     NaN  \n",
       "3                          NaN            NaN  Maester Micellar Water  \n",
       "4                          NaN            NaN                     NaN  \n",
       "\n",
       "[5 rows x 24 columns]"
      ]
     },
     "execution_count": 2,
     "metadata": {},
     "output_type": "execute_result"
    }
   ],
   "source": [
    "df = pd.read_csv('GoT_Sales_Stats_Fictional.csv')\n",
    "df.head()"
   ]
  },
  {
   "cell_type": "markdown",
   "metadata": {},
   "source": [
    "<a id='analysis'></a>\n",
    "### Part II: Analysis\n",
    "\n",
    "Let's analyze the data:\n",
    "\n",
    "1. To get started, let's look at the count of products purchased by an individual customer: Daenerys Targaryen"
   ]
  },
  {
   "cell_type": "code",
   "execution_count": 3,
   "metadata": {},
   "outputs": [
    {
     "data": {
      "text/plain": [
       "Dragon Fire Foundation         3\n",
       "Khaleesi Cream                 2\n",
       "Serum of the Seven Kingdoms    1\n",
       "Iron Throne Eye Cream          1\n",
       "Essos Essence                  1\n",
       "Name: Daenerys Targaryen, dtype: int64"
      ]
     },
     "execution_count": 3,
     "metadata": {},
     "output_type": "execute_result"
    }
   ],
   "source": [
    "df['Daenerys Targaryen'].value_counts()"
   ]
  },
  {
   "cell_type": "markdown",
   "metadata": {},
   "source": [
    "2. Let's use value_counts() to discover:\n",
    "\n",
    "      a. Which product has been purchased the most by each individual client. I will use this information to inform our   complimentary gift with purchase (GWP) promotion.     \n",
    "      b. Which product is the highest-performing and which product is the lowest-performing. To do this, I will first generate a total count of each product sold YTD. This information has nothing to do with the GWP promotion but will inform future product development initiatives. "
   ]
  },
  {
   "cell_type": "markdown",
   "metadata": {},
   "source": [
    "#### a. Marketing Strategy to Increase Client Retention: Customized Complimentary Gift With Purchase (GWP) Promotion"
   ]
  },
  {
   "cell_type": "code",
   "execution_count": 4,
   "metadata": {},
   "outputs": [
    {
     "name": "stdout",
     "output_type": "stream",
     "text": [
      "Send Daenerys Targaryen a complimentary Dragon Fire Foundation\n",
      "Send Jorah Mormont a complimentary Khaleesi Cream\n",
      "Send Sansa Stark a complimentary Royal Blush\n",
      "Send Brienne of Tarth a complimentary Ice Sword SPF\n",
      "Send Catelyn Stark a complimentary Iron Throne Eye Cream\n",
      "Send Cersei Lannister a complimentary Lannister Lip Salve\n",
      "Send Khal Drogo a complimentary Cleansing Milk of the Poppy\n",
      "Send Arya Stark a complimentary Ice Sword SPF\n",
      "Send Tyrion Lannister a complimentary Serum of the Seven Kingdoms\n",
      "Send Robert Baratheon a complimentary Iron Throne Eye Cream\n",
      "Send Ned Stark a complimentary Maester Micellar Water\n",
      "Send Petyr Baelish a complimentary Serum of the Seven Kingdoms\n",
      "Send Margaery Tyrell a complimentary Iron Throne Eye Cream\n",
      "Send Theon Greyjoy a complimentary Maester Micellar Water\n",
      "Send Stannis Baratheon a complimentary Ice Sword SPF\n",
      "Send Jaime Lannister a complimentary Iron Throne Eye Cream\n",
      "Send Jon Snow a complimentary Maester Micellar Water\n",
      "Send Joffrey Baratheon a complimentary Lannister Lip Salve\n",
      "Send Robb Stark a complimentary Maester Micellar Water\n",
      "Send Tywin Lannister a complimentary Iron Throne Eye Cream\n",
      "Send Myrcella Baratheon a complimentary Lannister Lip Salve\n",
      "Send Ellaria Sand a complimentary Essos Essence\n",
      "Send Talisa Stark a complimentary Essos Essence\n"
     ]
    }
   ],
   "source": [
    "adg.get_complimentary_gifts(df) #Get most purchased product YTD for each customer and then print using .format() to inform fulfillment team"
   ]
  },
  {
   "cell_type": "markdown",
   "metadata": {},
   "source": [
    "#### b. Product Performance Insight"
   ]
  },
  {
   "cell_type": "code",
   "execution_count": 5,
   "metadata": {},
   "outputs": [],
   "source": [
    "items_sold_count = adg.get_product_perf(df) #Get count for each product sold YTD"
   ]
  },
  {
   "cell_type": "code",
   "execution_count": 6,
   "metadata": {},
   "outputs": [
    {
     "data": {
      "text/plain": [
       "{'Dragon Fire Foundation': 6,\n",
       " 'Khaleesi Cream': 6,\n",
       " 'Serum of the Seven Kingdoms': 13,\n",
       " 'Iron Throne Eye Cream': 20,\n",
       " 'Essos Essence': 8,\n",
       " 'Targaryen Toner': 4,\n",
       " 'Maester Micellar Water': 17,\n",
       " 'Ice Sword SPF': 15,\n",
       " 'Royal Blush': 8,\n",
       " 'Lannister Lip Salve': 13,\n",
       " 'Casterly Rock Color Corrector': 6,\n",
       " 'Cleansing Milk of the Poppy': 6}"
      ]
     },
     "execution_count": 6,
     "metadata": {},
     "output_type": "execute_result"
    }
   ],
   "source": [
    "items_sold_count"
   ]
  },
  {
   "cell_type": "markdown",
   "metadata": {},
   "source": [
    "###### Now, using data on individual product performance, let's determine highest-performing product and lowest-performing product:"
   ]
  },
  {
   "cell_type": "code",
   "execution_count": 7,
   "metadata": {},
   "outputs": [
    {
     "name": "stdout",
     "output_type": "stream",
     "text": [
      "Highest-performing product is: Iron Throne Eye Cream\n"
     ]
    }
   ],
   "source": [
    "adg.get_best_perf_prod(items_sold_count)"
   ]
  },
  {
   "cell_type": "code",
   "execution_count": 8,
   "metadata": {},
   "outputs": [
    {
     "name": "stdout",
     "output_type": "stream",
     "text": [
      "Lowest-performing product is: Targaryen Toner\n"
     ]
    }
   ],
   "source": [
    "adg.get_worst_perf_prod(items_sold_count)"
   ]
  },
  {
   "cell_type": "markdown",
   "metadata": {},
   "source": [
    "<a id='conclusion'></a>\n",
    "### Part III: Conclusion\n",
    "\n",
    "#### a. Based on my data analysis, this is the customized complimentary gift with purchase (GWP) strategy:\n",
    "\n",
    "    Send Daenerys Targaryen a complimentary Dragon Fire Foundation\n",
    "    Send Jorah Mormont a complimentary Khaleesi Cream\n",
    "    Send Sansa Stark a complimentary Royal Blush\n",
    "    Send Brienne of Tarth a complimentary Ice Sword SPF\n",
    "    Send Catelyn Stark a complimentary Iron Throne Eye Cream\n",
    "    Send Cersei Lannister a complimentary Lannister Lip Salve\n",
    "    Send Khal Drogo a complimentary Cleansing Milk of the Poppy\n",
    "    Send Arya Stark a complimentary Ice Sword SPF\n",
    "    Send Tyrion Lannister a complimentary Serum of the Seven Kingdoms\n",
    "    Send Robert Baratheon a complimentary Iron Throne Eye Cream\n",
    "    Send Ned Stark a complimentary Maester Micellar Water\n",
    "    Send Petyr Baelish a complimentary Serum of the Seven Kingdoms\n",
    "    Send Margaery Tyrell a complimentary Iron Throne Eye Cream\n",
    "    Send Theon Greyjoy a complimentary Maester Micellar Water\n",
    "    Send Stannis Baratheon a complimentary Ice Sword SPF\n",
    "    Send Jaime Lannister a complimentary Iron Throne Eye Cream\n",
    "    Send Jon Snow a complimentary Maester Micellar Water\n",
    "    Send Joffrey Baratheon a complimentary Lannister Lip Salve\n",
    "    Send Robb Stark a complimentary Maester Micellar Water\n",
    "    Send Tywin Lannister a complimentary Iron Throne Eye Cream\n",
    "    Send Myrcella Baratheon a complimentary Lannister Lip Salve\n",
    "    Send Ellaria Sand a complimentary Essos Essence\n",
    "    Send Talisa Stark a complimentary Essos Essence\n",
    "    \n",
    "Given any customer sales data, I can efficiently generate a customized complimentary gift with purchase for him or her. By offering each customer a relevant, personalized gift with purchase, the GoTones team hopes to increase brand loyalty and client retention. \n",
    "\n",
    "\n",
    "#### b. Also, based on my data analysis:\n",
    "\n",
    "Highest-performing product is: Iron Throne Eye Cream\n",
    "\n",
    "Lowest-performing product is: Targaryen Toner\n",
    "\n",
    "This above information will not be applied to the GWP promotion. Rather, it will be shared with the GoTones marketing and product development teams to inform future campaigns."
   ]
  },
  {
   "cell_type": "code",
   "execution_count": null,
   "metadata": {},
   "outputs": [],
   "source": []
  }
 ],
 "metadata": {
  "kernelspec": {
   "display_name": "Python 3",
   "language": "python",
   "name": "python3"
  },
  "language_info": {
   "codemirror_mode": {
    "name": "ipython",
    "version": 3
   },
   "file_extension": ".py",
   "mimetype": "text/x-python",
   "name": "python",
   "nbconvert_exporter": "python",
   "pygments_lexer": "ipython3",
   "version": "3.6.5"
  }
 },
 "nbformat": 4,
 "nbformat_minor": 2
}
